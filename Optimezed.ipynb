{
 "cells": [
  {
   "cell_type": "code",
   "execution_count": 1,
   "id": "943d70c6-c080-4a6a-9343-433331711b3b",
   "metadata": {},
   "outputs": [],
   "source": [
    "## Improve in the function code a bit (Optional)\n",
    "# Import this library so we can calculate square roots\n",
    "import math\n",
    "\n",
    "def is_prime_improved(n):\n",
    "    \n",
    "    # Deal with special cases\n",
    "    if n == 0 or n == 1:\n",
    "        return False\n",
    "    \n",
    "    # Loop through all numbers between 2 and the square root of n, and check if n is NOT prime\n",
    "    # If n is divisible by any number greater than sqrt(n), \n",
    "    # its counterpart in the product would be a number smaller than sqrt(n),\n",
    "    # and thus, we would have already checked it\n",
    "    i = 2\n",
    "    while i <= math.sqrt(n):\n",
    "        if n % i == 0:\n",
    "            return False\n",
    "        i = i + 1\n",
    "    \n",
    "    # If the program reached this point, that means the number is prime\n",
    "    return True"
   ]
  },
  {
   "cell_type": "markdown",
   "id": "d3856f61-3416-4703-adfd-7c8dccea6af4",
   "metadata": {},
   "source": [
    "2221"
   ]
  },
  {
   "cell_type": "code",
   "execution_count": 14,
   "id": "541a8d03-fa7b-46cb-817e-293e3ad46614",
   "metadata": {},
   "outputs": [
    {
     "name": "stdout",
     "output_type": "stream",
     "text": [
      "True\n"
     ]
    }
   ],
   "source": [
    "print(is_prime_improved(2))"
   ]
  },
  {
   "cell_type": "code",
   "execution_count": null,
   "id": "a3a9767e-59f2-4487-b524-457c17055760",
   "metadata": {},
   "outputs": [],
   "source": []
  }
 ],
 "metadata": {
  "kernelspec": {
   "display_name": "Python 3 (ipykernel)",
   "language": "python",
   "name": "python3"
  },
  "language_info": {
   "codemirror_mode": {
    "name": "ipython",
    "version": 3
   },
   "file_extension": ".py",
   "mimetype": "text/x-python",
   "name": "python",
   "nbconvert_exporter": "python",
   "pygments_lexer": "ipython3",
   "version": "3.12.7"
  }
 },
 "nbformat": 4,
 "nbformat_minor": 5
}

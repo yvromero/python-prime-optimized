{
 "cells": [
  {
   "cell_type": "code",
   "execution_count": 5,
   "id": "3f6ca078-bbae-46ba-8c93-974ffeeb2a90",
   "metadata": {},
   "outputs": [],
   "source": [
    "def is_prime(n):\n",
    "    \n",
    "    # Deal with special cases\n",
    "    if n == 0 or n == 1:\n",
    "        return False\n",
    "    \n",
    "    # Loop through all numbers between 2 and n - 1, and check if n is NOT prime\n",
    "    i = 2\n",
    "    while i < n:\n",
    "        if n % i == 0:\n",
    "            return False\n",
    "        i = i + 1\n",
    "    \n",
    "    # If the program reached this point, that means the number is prime\n",
    "    return True\n",
    "\n",
    "    ## Count the number of primes in the range of 100 to 151, inclusive\n",
    "    count = 0\n",
    "\n",
    "    for i in range(100, 152):\n",
    "        if is_prime(i):\n",
    "            count = count + 1"
   ]
  },
  {
   "cell_type": "code",
   "execution_count": 7,
   "id": "557aba08-bd66-4a78-ac4a-86bfbefbc17e",
   "metadata": {},
   "outputs": [
    {
     "name": "stdout",
     "output_type": "stream",
     "text": [
      "11\n"
     ]
    }
   ],
   "source": [
    "print(count)"
   ]
  },
  {
   "cell_type": "code",
   "execution_count": 17,
   "id": "c0fa0abb-7ba3-44cb-affe-155e777d248a",
   "metadata": {},
   "outputs": [
    {
     "name": "stdout",
     "output_type": "stream",
     "text": [
      "313\n"
     ]
    }
   ],
   "source": [
    "l = [326, 303, 313, 351]\n",
    "\n",
    "for i in l:\n",
    "    if is_prime(i):\n",
    "        print(i)"
   ]
  },
  {
   "cell_type": "code",
   "execution_count": null,
   "id": "74f7f054-83f4-4738-b7a3-856c7dc564c7",
   "metadata": {},
   "outputs": [],
   "source": []
  }
 ],
 "metadata": {
  "kernelspec": {
   "display_name": "Python 3 (ipykernel)",
   "language": "python",
   "name": "python3"
  },
  "language_info": {
   "codemirror_mode": {
    "name": "ipython",
    "version": 3
   },
   "file_extension": ".py",
   "mimetype": "text/x-python",
   "name": "python",
   "nbconvert_exporter": "python",
   "pygments_lexer": "ipython3",
   "version": "3.12.7"
  }
 },
 "nbformat": 4,
 "nbformat_minor": 5
}
